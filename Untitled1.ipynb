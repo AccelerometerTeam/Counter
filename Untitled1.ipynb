{
 "cells": [
  {
   "cell_type": "code",
   "execution_count": null,
   "metadata": {},
   "outputs": [],
   "source": [
    "import subprocess as cmd\n",
    "cmd.run(\"git checkout X-work\", check=True, shell=True)\n",
    "cmd.run(\"git add .\", check=True, shell=True)\n",
    "print(cp)\n",
    "cmd.run(\"git commit -m 'Update at \"+str(datetime.datetime.now())+\"'\", check=True, shell=True)\n",
    "cmd.run(\"git push -u origin master -f\", check=True, shell=True)"
   ]
  },
  {
   "cell_type": "code",
   "execution_count": 1,
   "metadata": {
    "ExecuteTime": {
     "end_time": "2020-11-19T10:07:10.552144Z",
     "start_time": "2020-11-19T10:07:10.547117Z"
    }
   },
   "outputs": [],
   "source": [
    "import datetime"
   ]
  },
  {
   "cell_type": "code",
   "execution_count": 4,
   "metadata": {
    "ExecuteTime": {
     "end_time": "2020-11-19T10:07:44.746604Z",
     "start_time": "2020-11-19T10:07:44.737580Z"
    }
   },
   "outputs": [
    {
     "data": {
      "text/plain": [
       "'2020-11-19 10:07:44.739983'"
      ]
     },
     "execution_count": 4,
     "metadata": {},
     "output_type": "execute_result"
    }
   ],
   "source": [
    "str(datetime.datetime.now())"
   ]
  },
  {
   "cell_type": "code",
   "execution_count": null,
   "metadata": {},
   "outputs": [],
   "source": []
  }
 ],
 "metadata": {
  "kernelspec": {
   "display_name": "Python 3",
   "language": "python",
   "name": "python3"
  },
  "language_info": {
   "codemirror_mode": {
    "name": "ipython",
    "version": 3
   },
   "file_extension": ".py",
   "mimetype": "text/x-python",
   "name": "python",
   "nbconvert_exporter": "python",
   "pygments_lexer": "ipython3",
   "version": "3.7.4"
  }
 },
 "nbformat": 4,
 "nbformat_minor": 2
}
