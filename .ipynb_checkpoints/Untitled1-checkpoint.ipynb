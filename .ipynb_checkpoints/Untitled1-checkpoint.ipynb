{
 "cells": [
  {
   "cell_type": "code",
   "execution_count": 12,
   "metadata": {
    "ExecuteTime": {
     "end_time": "2020-11-19T10:21:55.551256Z",
     "start_time": "2020-11-19T10:21:51.513667Z"
    }
   },
   "outputs": [
    {
     "name": "stdout",
     "output_type": "stream",
     "text": [
      "CompletedProcess(args='git add .', returncode=0)\n",
      "CompletedProcess(args='git add .', returncode=0)\n",
      "CompletedProcess(args='git add .', returncode=0)\n"
     ]
    }
   ],
   "source": [
    "import datetime\n",
    "import subprocess as cmd\n",
    "cmd.run(\"git checkout xwork\", check=True, shell=True)\n",
    "cp = cmd.run(\"git add .\", check=True, shell=True)\n",
    "print(cp)\n",
    "cmd.run(\"git commit -m 'Update at\"+str(datetime.datetime.now())[:19]+\" '\", check=True, shell=True)\n",
    "print(cp)\n",
    "cmd.run(\"git push origin xwork\", check=True, shell=True)\n",
    "print(cp)\n",
    "# trial 1"
   ]
  },
  {
   "cell_type": "code",
   "execution_count": 1,
   "metadata": {
    "ExecuteTime": {
     "end_time": "2020-11-19T10:07:10.552144Z",
     "start_time": "2020-11-19T10:07:10.547117Z"
    }
   },
   "outputs": [],
   "source": [
    "import datetime"
   ]
  },
  {
   "cell_type": "code",
   "execution_count": 11,
   "metadata": {
    "ExecuteTime": {
     "end_time": "2020-11-19T10:21:44.032284Z",
     "start_time": "2020-11-19T10:21:44.020649Z"
    }
   },
   "outputs": [
    {
     "data": {
      "text/plain": [
       "'2020-11-19 10:21:44'"
      ]
     },
     "execution_count": 11,
     "metadata": {},
     "output_type": "execute_result"
    }
   ],
   "source": [
    "str(datetime.datetime.now())[:19]"
   ]
  },
  {
   "cell_type": "code",
   "execution_count": null,
   "metadata": {},
   "outputs": [],
   "source": []
  }
 ],
 "metadata": {
  "kernelspec": {
   "display_name": "Python 3",
   "language": "python",
   "name": "python3"
  },
  "language_info": {
   "codemirror_mode": {
    "name": "ipython",
    "version": 3
   },
   "file_extension": ".py",
   "mimetype": "text/x-python",
   "name": "python",
   "nbconvert_exporter": "python",
   "pygments_lexer": "ipython3",
   "version": "3.7.4"
  }
 },
 "nbformat": 4,
 "nbformat_minor": 2
}
